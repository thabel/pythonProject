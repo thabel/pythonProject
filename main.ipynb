{
 "cells": [
  {
   "cell_type": "code",
   "execution_count": 125,
   "metadata": {
    "pycharm": {
     "name": "#%%\n"
    }
   },
   "outputs": [],
   "source": [
    "import json\n",
    "from pymongo import MongoClient"
   ]
  },
  {
   "cell_type": "code",
   "execution_count": 126,
   "metadata": {
    "pycharm": {
     "name": "#%%\n"
    }
   },
   "outputs": [],
   "source": [
    "URI = \"mongodb://localhost:27017/\""
   ]
  },
  {
   "cell_type": "code",
   "execution_count": 127,
   "metadata": {
    "pycharm": {
     "name": "#%%\n"
    }
   },
   "outputs": [],
   "source": [
    "def collection(uri):\n",
    "    client = MongoClient(uri)\n",
    "    database = client[\"rhobs\"]\n",
    "    collection = database[\"people\"]\n",
    "    return collection\n",
    "def load(uri=\"localhost\", datapath=\"data.json\"):\n",
    "    coll = collection(uri=uri)\n",
    "    with open(datapath, \"r\") as fp:\n",
    "        data = json.load(fp)\n",
    "        for person in data:\n",
    "            coll.insert_one(person)"
   ]
  },
  {
   "cell_type": "code",
   "execution_count": 128,
   "metadata": {
    "pycharm": {
     "name": "#%%\n"
    }
   },
   "outputs": [],
   "source": [
    "client = MongoClient()\n",
    "# Eviter de reload la collection\n",
    "if 'rhobs' not in client.list_database_names():\n",
    "    load()\n"
   ]
  },
  {
   "cell_type": "code",
   "execution_count": 129,
   "metadata": {
    "pycharm": {
     "name": "#%%\n"
    }
   },
   "outputs": [],
   "source": [
    "def count_gender(gender):\n",
    "    col = collection(URI)\n",
    "    query = {\"sex\":gender}\n",
    "    return col.count_documents(query)"
   ]
  },
  {
   "cell_type": "code",
   "execution_count": 130,
   "metadata": {
    "pycharm": {
     "name": "#%%\n"
    }
   },
   "outputs": [],
   "source": [
    "n_hommes,n_femmes = count_gender(\"M\"),count_gender(\"F\")\n",
    "print(f\"Nombre d'hommes {n_hommes}\\nNombre de femmes : {n_femmes}\")"
   ]
  },
  {
   "cell_type": "code",
   "execution_count": 131,
   "metadata": {
    "pycharm": {
     "name": "#%%\n"
    }
   },
   "outputs": [],
   "source": [
    "def count_companies(n):\n",
    "    col = collection(URI)\n",
    "    pipeline = [\n",
    "        {\n",
    "            \"$group\": \n",
    "            { \n",
    "                \"_id\": \"$company\", \n",
    "                \"count\": {\"$sum\": 1}\n",
    "            }\n",
    "        },\n",
    "        {\n",
    "            \"$match\":\n",
    "            {\n",
    "                \"count\": {\"$gt\":n}\n",
    "            }\n",
    "        }\n",
    "    ]\n",
    "\n",
    "    result = col.aggregate(pipeline)\n",
    "\n",
    "    for record in result:\n",
    "        print(record)\n",
    "count_companies(80)"
   ]
  },
  {
   "cell_type": "code",
   "execution_count": 132,
   "metadata": {
    "pycharm": {
     "name": "#%%\n"
    }
   },
   "outputs": [],
   "source": [
    "import pandas as pd\n",
    "import datetime\n",
    "job='chargé de recherche en acoustique musicale'\n",
    "def grab_data(job=job,sex='M'):\n",
    "    col = collection(URI)\n",
    "\n",
    "    records = col.find(\n",
    "            {'job' : job,\n",
    "            'sex' : sex\n",
    "    },{\"birthdate\"})\n",
    "\n",
    "    male_data = pd.DataFrame(list(records))\n",
    "    male_data = pd.DataFrame(male_data.iloc[:,1])\n",
    "    age_liste = []\n",
    "    for birthdate in male_data['birthdate']:\n",
    "        age_liste.append((datetime.date.today().year-datetime.datetime.strptime(birthdate,'%Y-%m-%d').date().year))\n",
    "    \n",
    "    return age_liste\n",
    "\n"
   ]
  },
  {
   "cell_type": "code",
   "execution_count": 133,
   "outputs": [],
   "source": [
    "\n",
    "tranche_d_age = 4 # tranches de quatres annnees\n",
    "age_maximum = 100 # maximum d'ages( 100 ans )\n",
    "\n",
    "def range_of_ages(tranche_d_age=tranche_d_age,age_maximum=age_maximum):\n",
    "    \"\"\"Retourne une liste des tranches d'ages \"\"\"\n",
    "    result = []\n",
    "    number_of_tranches = (age_maximum-tranche_d_age)//(tranche_d_age+1)+1 #\n",
    "    # nombre total de tranches\n",
    "    k=0 # debuter la premiere tranche d'age\n",
    "    for i in range(0,number_of_tranches):\n",
    "\n",
    "        j=k+tranche_d_age # fin d'une tranche d'age\n",
    "        result.append({\"age\":str(k)+'-'+str(j),\"count\":0})\n",
    "        k=j+1\n",
    "    result[number_of_tranches-1]={\"age\":'100+',\"count\":0}\n",
    "    return result\n"
   ],
   "metadata": {
    "collapsed": false,
    "pycharm": {
     "name": "#%%\n"
    }
   }
  },
  {
   "cell_type": "code",
   "execution_count": 134,
   "metadata": {
    "pycharm": {
     "name": "#%%\n"
    }
   },
   "outputs": [],
   "source": [
    "\n",
    "def count_by_age(age_data):\n",
    "    list_tranche_ages = range_of_ages()\n",
    "    for age in age_data:\n",
    "        if age <age_maximum:\n",
    "            index = len(list_tranche_ages)*age//age_maximum\n",
    "        else:\n",
    "            index = len(list_tranche_ages)-1\n",
    "        list_tranche_ages[index][\"count\"]+=1\n",
    "        print((index,age))\n",
    "    return list_tranche_ages\n",
    "\n"
   ]
  },
  {
   "cell_type": "code",
   "execution_count": 134,
   "outputs": [],
   "source": [
    "\n"
   ],
   "metadata": {
    "collapsed": false,
    "pycharm": {
     "name": "#%%\n"
    }
   }
  },
  {
   "cell_type": "code",
   "execution_count": 134,
   "outputs": [],
   "source": [],
   "metadata": {
    "collapsed": false,
    "pycharm": {
     "name": "#%%\n"
    }
   }
  },
  {
   "cell_type": "code",
   "execution_count": 138,
   "outputs": [],
   "source": [
    "import matplotlib.pyplot as plt\n",
    "def pyramide_des_ages_par_metier(job=job):\n",
    "    # donnees retires de la collection\n",
    "    male_data = grab_data(job,'M')\n",
    "    female_data = grab_data(job,'F')\n",
    "    #\n",
    "    pyramid_des_ages = {\n",
    "    'male_count_by_age':list(map(lambda element:element['count'],count_by_age(male_data))),\n",
    "    'female_count_by_age':list(map(lambda element:element['count'],count_by_age(female_data))),\n",
    "    'ages':list(map(lambda element:element['age'],range_of_ages()))\n",
    "}\n",
    "    # donnes sur le metier\n",
    "    pyramid_des_ages_df = pd.DataFrame({\"males\":pyramid_des_ages[\"male_count_by_age\"],\"females\":pyramid_des_ages['female_count_by_age'],\"ages\":pyramid_des_ages[\"ages\"]})\n",
    "\n",
    "    pyramid_des_ages_df [\"females_left_side\"] = 0\n",
    "    pyramid_des_ages_df [\"females_width\"] = pyramid_des_ages_df[\"females\"]\n",
    "\n",
    "    pyramid_des_ages_df [\"males_left_side\"] = -pyramid_des_ages_df[\"males\"]\n",
    "    pyramid_des_ages_df [\"males_width\"] = pyramid_des_ages_df[\"males\"]\n",
    "\n",
    "    # Construction de figures\n",
    "\n",
    "    fig = plt.figure(figsize=(15,14))\n",
    "    plt.barh(y=pyramid_des_ages_df[\"ages\"],width=pyramid_des_ages_df[\"females_width\"],label=\"Femmes\",\n",
    "             left=pyramid_des_ages_df[\"females_left_side\"])\n",
    "    plt.barh(y=pyramid_des_ages_df[\"ages\"],width=pyramid_des_ages_df[\"males_width\"],left=pyramid_des_ages_df[\"males_left_side\"],label=\"hommes\")\n",
    "    plt.text(-12,20,\"Hommes\",fontsize=20)\n",
    "    plt.text(8,20,\"Femmes\",fontsize=20)\n",
    "    plt.xlim(-15,15)\n",
    "    plt.xlabel(\"nombres\",fontweight=\"bold\",fontsize=20)\n",
    "    plt.ylabel(\"tranche d'ages\",fontweight=\"bold\",fontsize=20)\n",
    "    plt.title(f\"Pyramide des ages du metier {job}\".format(job=job),fontweight=\"bold\",fontsize=30)\n",
    "    plt.legend(loc='best')\n",
    "\n",
    "    for idx in range(len(pyramid_des_ages_df)):\n",
    "        plt.text(x=pyramid_des_ages_df[\"males_left_side\"][idx]-0.1,y=idx,ha='right',va='center',s=\"{}\".format(pyramid_des_ages_df[\"males\"][idx]),fontsize=20,fontweight=\"bold\")\n",
    "        plt.text(x=pyramid_des_ages_df[\"females_width\"][idx]+1,y=idx,ha='right',va='center',s=\"{}\".format(pyramid_des_ages_df[\"females\"][idx]),fontsize=20,fontweight=\"bold\")\n",
    "    plt.show()"
   ],
   "metadata": {
    "collapsed": false,
    "pycharm": {
     "name": "#%%\n"
    }
   }
  },
  {
   "cell_type": "code",
   "execution_count": 139,
   "outputs": [],
   "source": [
    "# Afficher le piramide\n",
    "pyramide_des_ages_par_metier()"
   ],
   "metadata": {
    "collapsed": false,
    "pycharm": {
     "name": "#%%\n"
    }
   }
  },
  {
   "cell_type": "code",
   "execution_count": 140,
   "outputs": [],
   "source": [
    "12+12"
   ],
   "metadata": {
    "collapsed": false,
    "pycharm": {
     "name": "#%%\n"
    }
   }
  },
  {
   "cell_type": "code",
   "execution_count": null,
   "outputs": [],
   "source": [],
   "metadata": {
    "collapsed": false,
    "pycharm": {
     "name": "#%%\n"
    }
   }
  }
 ],
 "metadata": {
  "kernelspec": {
   "display_name": "testMongo",
   "language": "python",
   "name": "python3"
  },
  "language_info": {
   "codemirror_mode": {
    "name": "ipython",
    "version": 3
   },
   "file_extension": ".py",
   "mimetype": "text/x-python",
   "name": "python",
   "nbconvert_exporter": "python",
   "pygments_lexer": "ipython3",
   "version": "3.7.8"
  },
  "orig_nbformat": 4
 },
 "nbformat": 4,
 "nbformat_minor": 2
}